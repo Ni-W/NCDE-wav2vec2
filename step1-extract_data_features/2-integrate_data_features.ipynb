{
 "cells": [
  {
   "cell_type": "code",
   "execution_count": 1,
   "id": "7ae478cf-7bb8-45af-8eee-7b42db85b550",
   "metadata": {},
   "outputs": [],
   "source": [
    "import math\n",
    "import time\n",
    "\n",
    "import diffrax\n",
    "import equinox as eqx  # https://github.com/patrick-kidger/equinox\n",
    "import jax\n",
    "import jax.nn as jnn\n",
    "import jax.numpy as jnp\n",
    "import jax.random as jrandom\n",
    "import jax.scipy as jsp\n",
    "import matplotlib\n",
    "import matplotlib.pyplot as plt\n",
    "import optax  # https://github.com/deepmind/optax\n",
    "import librosa\n",
    "import numpy as np\n",
    "from sklearn import metrics\n",
    "import pickle\n",
    "import numpy\n",
    "\n",
    "matplotlib.rcParams.update({\"font.size\": 30})"
   ]
  },
  {
   "cell_type": "code",
   "execution_count": 2,
   "id": "adce6826-17cd-4c76-81ca-deb4f088d3a6",
   "metadata": {},
   "outputs": [
    {
     "name": "stdout",
     "output_type": "stream",
     "text": [
      "w2v2_improF_1 (75, 256, 768)\n",
      "label_improF_1 (75,)\n",
      "w2v2_improF_2 (96, 256, 768)\n",
      "label_improF_2 (96,)\n",
      "w2v2_improF_3 (70, 256, 768)\n",
      "label_improF_3 (70,)\n",
      "w2v2_scriptF_1 (96, 256, 768)\n",
      "label_scriptF_1 (96,)\n",
      "w2v2_scriptF_2 (84, 256, 768)\n",
      "label_scriptF_2 (84,)\n",
      "w2v2_scriptF_3 (86, 256, 768)\n",
      "label_scriptF_3 (86,)\n"
     ]
    }
   ],
   "source": [
    "#读取Session1F数据集\n",
    "w2v2_improF_1 = jnp.array(numpy.load('/home/ni/step1-提取数据特征/按条提取语音_Session4_pt_特征/data_Session1/data_Session1F_w2v2_impro_1.npy'))\n",
    "print('w2v2_improF_1',w2v2_improF_1.shape)\n",
    "label_improF_1 = jnp.array(numpy.load('/home/ni/step1-提取数据特征/按条提取语音_Session4_pt_特征/data_Session1/data_Session1F_label_impro_1.npy'))\n",
    "print('label_improF_1',label_improF_1.shape)\n",
    "\n",
    "w2v2_improF_2 = jnp.array(numpy.load('/home/ni/step1-提取数据特征/按条提取语音_Session4_pt_特征/data_Session1/data_Session1F_w2v2_impro_2.npy'))\n",
    "print('w2v2_improF_2',w2v2_improF_2.shape)\n",
    "label_improF_2 = jnp.array(numpy.load('/home/ni/step1-提取数据特征/按条提取语音_Session4_pt_特征/data_Session1/data_Session1F_label_impro_2.npy'))\n",
    "print('label_improF_2',label_improF_2.shape)\n",
    "\n",
    "w2v2_improF_3 = jnp.array(numpy.load('/home/ni/step1-提取数据特征/按条提取语音_Session4_pt_特征/data_Session1/data_Session1F_w2v2_impro_3.npy'))\n",
    "print('w2v2_improF_3',w2v2_improF_3.shape)\n",
    "label_improF_3 = jnp.array(numpy.load('/home/ni/step1-提取数据特征/按条提取语音_Session4_pt_特征/data_Session1/data_Session1F_label_impro_3.npy'))\n",
    "print('label_improF_3',label_improF_3.shape)\n",
    "\n",
    "w2v2_scriptF_1 = jnp.array(numpy.load('/home/ni/step1-提取数据特征/按条提取语音_Session4_pt_特征/data_Session1/data_Session1F_w2v2_script_1.npy'))\n",
    "print('w2v2_scriptF_1',w2v2_scriptF_1.shape)\n",
    "label_scriptF_1 = jnp.array(numpy.load('/home/ni/step1-提取数据特征/按条提取语音_Session4_pt_特征/data_Session1/data_Session1F_label_script_1.npy'))\n",
    "print('label_scriptF_1',label_scriptF_1.shape)\n",
    "\n",
    "w2v2_scriptF_2 = jnp.array(numpy.load('/home/ni/step1-提取数据特征/按条提取语音_Session4_pt_特征/data_Session1/data_Session1F_w2v2_script_2.npy'))\n",
    "print('w2v2_scriptF_2',w2v2_scriptF_2.shape)\n",
    "label_scriptF_2 = jnp.array(numpy.load('/home/ni/step1-提取数据特征/按条提取语音_Session4_pt_特征/data_Session1/data_Session1F_label_script_2.npy'))\n",
    "print('label_scriptF_2',label_scriptF_2.shape)\n",
    "\n",
    "w2v2_scriptF_3 = jnp.array(numpy.load('/home/ni/step1-提取数据特征/按条提取语音_Session4_pt_特征/data_Session1/data_Session1F_w2v2_script_3.npy'))\n",
    "print('w2v2_scriptF_3',w2v2_scriptF_3.shape)\n",
    "label_scriptF_3 = jnp.array(numpy.load('/home/ni/step1-提取数据特征/按条提取语音_Session4_pt_特征/data_Session1/data_Session1F_label_script_3.npy'))\n",
    "print('label_scriptF_3',label_scriptF_3.shape)"
   ]
  },
  {
   "cell_type": "code",
   "execution_count": 3,
   "id": "1d17db28-1575-4890-9775-399bfeb00b36",
   "metadata": {},
   "outputs": [
    {
     "name": "stdout",
     "output_type": "stream",
     "text": [
      "(507, 256, 768) (507,)\n"
     ]
    }
   ],
   "source": [
    "w2v2_1F = np.concatenate((w2v2_improF_1, w2v2_improF_2, w2v2_improF_3, w2v2_scriptF_1, w2v2_scriptF_2, w2v2_scriptF_3),axis=0)\n",
    "label_1F = np.concatenate((label_improF_1, label_improF_2, label_improF_3, label_scriptF_1, label_scriptF_2, label_scriptF_3))\n",
    "print(w2v2_1F.shape,label_1F.shape)"
   ]
  },
  {
   "cell_type": "code",
   "execution_count": 4,
   "id": "4ee61dae-2592-407a-b466-78dc613900d4",
   "metadata": {},
   "outputs": [],
   "source": [
    "import pickle\n",
    "with open('data_w2v2_1F.pkl', 'wb') as f:\n",
    "    pickle.dump(w2v2_1F, f)\n",
    "\n",
    "with open('data_label_1F.pkl', 'wb') as f:\n",
    "    pickle.dump(label_1F, f)"
   ]
  },
  {
   "cell_type": "code",
   "execution_count": 5,
   "id": "f8e1b402-2ef4-4d07-8680-6beb66c774e8",
   "metadata": {},
   "outputs": [
    {
     "name": "stdout",
     "output_type": "stream",
     "text": [
      "w2v2_improM_1 (95, 256, 768)\n",
      "label_improM_1 (95,)\n",
      "w2v2_improM_2 (76, 256, 768)\n",
      "label_improM_2 (76,)\n",
      "w2v2_improM_3 (109, 256, 768)\n",
      "label_improM_3 (109,)\n",
      "w2v2_scriptM_1 (113, 256, 768)\n",
      "label_scriptM_1 (113,)\n",
      "w2v2_scriptM_2 (93, 256, 768)\n",
      "label_scriptM_2 (93,)\n",
      "w2v2_scriptM_3 (92, 256, 768)\n",
      "label_scriptM_3 (92,)\n"
     ]
    }
   ],
   "source": [
    "#读取Session1M数据集\n",
    "w2v2_improM_1 = jnp.array(numpy.load('/home/ni/step1-提取数据特征/按条提取语音_Session4_pt_特征/data_Session1/data_Session1M_w2v2_impro_1.npy'))\n",
    "print('w2v2_improM_1',w2v2_improM_1.shape)\n",
    "label_improM_1 = jnp.array(numpy.load('/home/ni/step1-提取数据特征/按条提取语音_Session4_pt_特征/data_Session1/data_Session1M_label_impro_1.npy'))\n",
    "print('label_improM_1',label_improM_1.shape)\n",
    "\n",
    "w2v2_improM_2 = jnp.array(numpy.load('/home/ni/step1-提取数据特征/按条提取语音_Session4_pt_特征/data_Session1/data_Session1M_w2v2_impro_2.npy'))\n",
    "print('w2v2_improM_2',w2v2_improM_2.shape)\n",
    "label_improM_2 = jnp.array(numpy.load('/home/ni/step1-提取数据特征/按条提取语音_Session4_pt_特征/data_Session1/data_Session1M_label_impro_2.npy'))\n",
    "print('label_improM_2',label_improM_2.shape)\n",
    "\n",
    "w2v2_improM_3 = jnp.array(numpy.load('/home/ni/step1-提取数据特征/按条提取语音_Session4_pt_特征/data_Session1/data_Session1M_w2v2_impro_3.npy'))\n",
    "print('w2v2_improM_3',w2v2_improM_3.shape)\n",
    "label_improM_3 = jnp.array(numpy.load('/home/ni/step1-提取数据特征/按条提取语音_Session4_pt_特征/data_Session1/data_Session1M_label_impro_3.npy'))\n",
    "print('label_improM_3',label_improM_3.shape)\n",
    "\n",
    "w2v2_scriptM_1 = jnp.array(numpy.load('/home/ni/step1-提取数据特征/按条提取语音_Session4_pt_特征/data_Session1/data_Session1M_w2v2_script_1.npy'))\n",
    "print('w2v2_scriptM_1',w2v2_scriptM_1.shape)\n",
    "label_scriptM_1 = jnp.array(numpy.load('/home/ni/step1-提取数据特征/按条提取语音_Session4_pt_特征/data_Session1/data_Session1M_label_script_1.npy'))\n",
    "print('label_scriptM_1',label_scriptM_1.shape)\n",
    "\n",
    "w2v2_scriptM_2 = jnp.array(numpy.load('/home/ni/step1-提取数据特征/按条提取语音_Session4_pt_特征/data_Session1/data_Session1M_w2v2_script_2.npy'))\n",
    "print('w2v2_scriptM_2',w2v2_scriptM_2.shape)\n",
    "label_scriptM_2 = jnp.array(numpy.load('/home/ni/step1-提取数据特征/按条提取语音_Session4_pt_特征/data_Session1/data_Session1M_label_script_2.npy'))\n",
    "print('label_scriptM_2',label_scriptM_2.shape)\n",
    "\n",
    "w2v2_scriptM_3 = jnp.array(numpy.load('/home/ni/step1-提取数据特征/按条提取语音_Session4_pt_特征/data_Session1/data_Session1M_w2v2_script_3.npy'))\n",
    "print('w2v2_scriptM_3',w2v2_scriptM_3.shape)\n",
    "label_scriptM_3 = jnp.array(numpy.load('/home/ni/step1-提取数据特征/按条提取语音_Session4_pt_特征/data_Session1/data_Session1M_label_script_3.npy'))\n",
    "print('label_scriptM_3',label_scriptM_3.shape)"
   ]
  },
  {
   "cell_type": "code",
   "execution_count": 6,
   "id": "0886a091-8b81-43be-b83f-d1a1c47f7d78",
   "metadata": {},
   "outputs": [
    {
     "name": "stdout",
     "output_type": "stream",
     "text": [
      "(578, 256, 768) (578,)\n"
     ]
    }
   ],
   "source": [
    "w2v2_1M = np.concatenate((w2v2_improM_1, w2v2_improM_2, w2v2_improM_3, w2v2_scriptM_1, w2v2_scriptM_2, w2v2_scriptM_3),axis=0)\n",
    "label_1M = np.concatenate((label_improM_1, label_improM_2, label_improM_3, label_scriptM_1, label_scriptM_2, label_scriptM_3))\n",
    "print(w2v2_1M.shape,label_1M.shape)"
   ]
  },
  {
   "cell_type": "code",
   "execution_count": 7,
   "id": "24b5ee30-60ab-4a72-a51d-8beba2112571",
   "metadata": {},
   "outputs": [],
   "source": [
    "import pickle\n",
    "with open('data_w2v2_1M.pkl', 'wb') as f:\n",
    "    pickle.dump(w2v2_1M, f)\n",
    "\n",
    "with open('data_label_1M.pkl', 'wb') as f:\n",
    "    pickle.dump(label_1M, f)"
   ]
  },
  {
   "cell_type": "code",
   "execution_count": 8,
   "id": "58770597-7a87-434c-b9cc-9be025809031",
   "metadata": {},
   "outputs": [
    {
     "name": "stdout",
     "output_type": "stream",
     "text": [
      "(1085, 256, 768) (1085,)\n"
     ]
    }
   ],
   "source": [
    "data_Session1_w2v2 = np.concatenate((w2v2_1F, w2v2_1M),axis=0)\n",
    "data_Session1_label = np.concatenate((label_1F, label_1M))\n",
    "print(data_Session1_w2v2.shape, data_Session1_label.shape)"
   ]
  },
  {
   "cell_type": "code",
   "execution_count": 9,
   "id": "061e1d77-8e55-41cf-9ab5-bc200d17b288",
   "metadata": {},
   "outputs": [],
   "source": [
    "import pickle\n",
    "with open('data_Session1_w2v2.pkl', 'wb') as f:\n",
    "    pickle.dump(data_Session1_w2v2, f)\n",
    "\n",
    "with open('data_Session1_label.pkl', 'wb') as f:\n",
    "    pickle.dump(data_Session1_label, f)"
   ]
  },
  {
   "cell_type": "code",
   "execution_count": 2,
   "id": "d4355fff-9425-4815-8d5f-3e9031e8e35a",
   "metadata": {},
   "outputs": [
    {
     "name": "stdout",
     "output_type": "stream",
     "text": [
      "w2v2_improF_1 (68, 256, 768)\n",
      "label_improF_1 (68,)\n",
      "w2v2_improF_2 (83, 256, 768)\n",
      "label_improF_2 (83,)\n",
      "w2v2_improF_3 (100, 256, 768)\n",
      "label_improF_3 (100,)\n",
      "w2v2_scriptF_1 (73, 256, 768)\n",
      "label_scriptF_1 (73,)\n",
      "w2v2_scriptF_2 (89, 256, 768)\n",
      "label_scriptF_2 (89,)\n",
      "w2v2_scriptF_3 (92, 256, 768)\n",
      "label_scriptF_3 (92,)\n"
     ]
    }
   ],
   "source": [
    "#读取Session2F数据集\n",
    "w2v2_improF_1 = jnp.array(numpy.load('/home/ni/step1-提取数据特征/按条提取语音_Session4_pt_特征/data_Session2/data_Session2F_w2v2_impro_1.npy'))\n",
    "print('w2v2_improF_1',w2v2_improF_1.shape)\n",
    "label_improF_1 = jnp.array(numpy.load('/home/ni/step1-提取数据特征/按条提取语音_Session4_pt_特征/data_Session2/data_Session2F_label_impro_1.npy'))\n",
    "print('label_improF_1',label_improF_1.shape)\n",
    "\n",
    "w2v2_improF_2 = jnp.array(numpy.load('/home/ni/step1-提取数据特征/按条提取语音_Session4_pt_特征/data_Session2/data_Session2F_w2v2_impro_2.npy'))\n",
    "print('w2v2_improF_2',w2v2_improF_2.shape)\n",
    "label_improF_2 = jnp.array(numpy.load('/home/ni/step1-提取数据特征/按条提取语音_Session4_pt_特征/data_Session2/data_Session2F_label_impro_2.npy'))\n",
    "print('label_improF_2',label_improF_2.shape)\n",
    "\n",
    "w2v2_improF_3 = jnp.array(numpy.load('/home/ni/step1-提取数据特征/按条提取语音_Session4_pt_特征/data_Session2/data_Session2F_w2v2_impro_3.npy'))\n",
    "print('w2v2_improF_3',w2v2_improF_3.shape)\n",
    "label_improF_3 = jnp.array(numpy.load('/home/ni/step1-提取数据特征/按条提取语音_Session4_pt_特征/data_Session2/data_Session2F_label_impro_3.npy'))\n",
    "print('label_improF_3',label_improF_3.shape)\n",
    "\n",
    "w2v2_scriptF_1 = jnp.array(numpy.load('/home/ni/step1-提取数据特征/按条提取语音_Session4_pt_特征/data_Session2/data_Session2F_w2v2_script_1.npy'))\n",
    "print('w2v2_scriptF_1',w2v2_scriptF_1.shape)\n",
    "label_scriptF_1 = jnp.array(numpy.load('/home/ni/step1-提取数据特征/按条提取语音_Session4_pt_特征/data_Session2/data_Session2F_label_script_1.npy'))\n",
    "print('label_scriptF_1',label_scriptF_1.shape)\n",
    "\n",
    "w2v2_scriptF_2 = jnp.array(numpy.load('/home/ni/step1-提取数据特征/按条提取语音_Session4_pt_特征/data_Session2/data_Session2F_w2v2_script_2.npy'))\n",
    "print('w2v2_scriptF_2',w2v2_scriptF_2.shape)\n",
    "label_scriptF_2 = jnp.array(numpy.load('/home/ni/step1-提取数据特征/按条提取语音_Session4_pt_特征/data_Session2/data_Session2F_label_script_2.npy'))\n",
    "print('label_scriptF_2',label_scriptF_2.shape)\n",
    "\n",
    "w2v2_scriptF_3 = jnp.array(numpy.load('/home/ni/step1-提取数据特征/按条提取语音_Session4_pt_特征/data_Session2/data_Session2F_w2v2_script_3.npy'))\n",
    "print('w2v2_scriptF_3',w2v2_scriptF_3.shape)\n",
    "label_scriptF_3 = jnp.array(numpy.load('/home/ni/step1-提取数据特征/按条提取语音_Session4_pt_特征/data_Session2/data_Session2F_label_script_3.npy'))\n",
    "print('label_scriptF_3',label_scriptF_3.shape)"
   ]
  },
  {
   "cell_type": "code",
   "execution_count": 3,
   "id": "dbdc287c-f1a2-4a1b-abfe-ed882bb01be9",
   "metadata": {},
   "outputs": [
    {
     "name": "stdout",
     "output_type": "stream",
     "text": [
      "(505, 256, 768) (505,)\n"
     ]
    }
   ],
   "source": [
    "w2v2_2F = np.concatenate((w2v2_improF_1, w2v2_improF_2, w2v2_improF_3, w2v2_scriptF_1, w2v2_scriptF_2, w2v2_scriptF_3),axis=0)\n",
    "label_2F = np.concatenate((label_improF_1, label_improF_2, label_improF_3, label_scriptF_1, label_scriptF_2, label_scriptF_3))\n",
    "print(w2v2_2F.shape,label_2F.shape)"
   ]
  },
  {
   "cell_type": "code",
   "execution_count": 4,
   "id": "6b4fc69c-f057-4ca6-9e16-7dd145e9231a",
   "metadata": {},
   "outputs": [],
   "source": [
    "import pickle\n",
    "with open('data_w2v2_2F.pkl', 'wb') as f:\n",
    "    pickle.dump(w2v2_2F, f)\n",
    "\n",
    "with open('data_label_2F.pkl', 'wb') as f:\n",
    "    pickle.dump(label_2F, f)"
   ]
  },
  {
   "cell_type": "code",
   "execution_count": 5,
   "id": "270fb4ba-60ea-4a1f-b1c4-f0d14a8ef18f",
   "metadata": {},
   "outputs": [
    {
     "name": "stdout",
     "output_type": "stream",
     "text": [
      "w2v2_improM_1 (86, 256, 768)\n",
      "label_improM_1 (86,)\n",
      "w2v2_improM_2 (95, 256, 768)\n",
      "label_improM_2 (95,)\n",
      "w2v2_improM_3 (98, 256, 768)\n",
      "label_improM_3 (98,)\n",
      "w2v2_scriptM_1 (81, 256, 768)\n",
      "label_scriptM_1 (81,)\n",
      "w2v2_scriptM_2 (76, 256, 768)\n",
      "label_scriptM_2 (76,)\n",
      "w2v2_scriptM_3 (82, 256, 768)\n",
      "label_scriptM_3 (82,)\n"
     ]
    }
   ],
   "source": [
    "#读取Session2M数据集\n",
    "w2v2_improM_1 = jnp.array(numpy.load('/home/ni/step1-提取数据特征/按条提取语音_Session4_pt_特征/data_Session2/data_Session2M_w2v2_impro_1.npy'))\n",
    "print('w2v2_improM_1',w2v2_improM_1.shape)\n",
    "label_improM_1 = jnp.array(numpy.load('/home/ni/step1-提取数据特征/按条提取语音_Session4_pt_特征/data_Session2/data_Session2M_label_impro_1.npy'))\n",
    "print('label_improM_1',label_improM_1.shape)\n",
    "\n",
    "w2v2_improM_2 = jnp.array(numpy.load('/home/ni/step1-提取数据特征/按条提取语音_Session4_pt_特征/data_Session2/data_Session2M_w2v2_impro_2.npy'))\n",
    "print('w2v2_improM_2',w2v2_improM_2.shape)\n",
    "label_improM_2 = jnp.array(numpy.load('/home/ni/step1-提取数据特征/按条提取语音_Session4_pt_特征/data_Session2/data_Session2M_label_impro_2.npy'))\n",
    "print('label_improM_2',label_improM_2.shape)\n",
    "\n",
    "w2v2_improM_3 = jnp.array(numpy.load('/home/ni/step1-提取数据特征/按条提取语音_Session4_pt_特征/data_Session2/data_Session2M_w2v2_impro_3.npy'))\n",
    "print('w2v2_improM_3',w2v2_improM_3.shape)\n",
    "label_improM_3 = jnp.array(numpy.load('/home/ni/step1-提取数据特征/按条提取语音_Session4_pt_特征/data_Session2/data_Session2M_label_impro_3.npy'))\n",
    "print('label_improM_3',label_improM_3.shape)\n",
    "\n",
    "w2v2_scriptM_1 = jnp.array(numpy.load('/home/ni/step1-提取数据特征/按条提取语音_Session4_pt_特征/data_Session2/data_Session2M_w2v2_script_1.npy'))\n",
    "print('w2v2_scriptM_1',w2v2_scriptM_1.shape)\n",
    "label_scriptM_1 = jnp.array(numpy.load('/home/ni/step1-提取数据特征/按条提取语音_Session4_pt_特征/data_Session2/data_Session2M_label_script_1.npy'))\n",
    "print('label_scriptM_1',label_scriptM_1.shape)\n",
    "\n",
    "w2v2_scriptM_2 = jnp.array(numpy.load('/home/ni/step1-提取数据特征/按条提取语音_Session4_pt_特征/data_Session2/data_Session2M_w2v2_script_2.npy'))\n",
    "print('w2v2_scriptM_2',w2v2_scriptM_2.shape)\n",
    "label_scriptM_2 = jnp.array(numpy.load('/home/ni/step1-提取数据特征/按条提取语音_Session4_pt_特征/data_Session2/data_Session2M_label_script_2.npy'))\n",
    "print('label_scriptM_2',label_scriptM_2.shape)\n",
    "\n",
    "w2v2_scriptM_3 = jnp.array(numpy.load('/home/ni/step1-提取数据特征/按条提取语音_Session4_pt_特征/data_Session2/data_Session2M_w2v2_script_3.npy'))\n",
    "print('w2v2_scriptM_3',w2v2_scriptM_3.shape)\n",
    "label_scriptM_3 = jnp.array(numpy.load('/home/ni/step1-提取数据特征/按条提取语音_Session4_pt_特征/data_Session2/data_Session2M_label_script_3.npy'))\n",
    "print('label_scriptM_3',label_scriptM_3.shape)"
   ]
  },
  {
   "cell_type": "code",
   "execution_count": 6,
   "id": "6b68741c-a852-48ee-a3c3-3c01abbe12f7",
   "metadata": {},
   "outputs": [
    {
     "name": "stdout",
     "output_type": "stream",
     "text": [
      "(518, 256, 768) (518,)\n"
     ]
    }
   ],
   "source": [
    "w2v2_2M = np.concatenate((w2v2_improM_1, w2v2_improM_2, w2v2_improM_3, w2v2_scriptM_1, w2v2_scriptM_2, w2v2_scriptM_3),axis=0)\n",
    "label_2M = np.concatenate((label_improM_1, label_improM_2, label_improM_3, label_scriptM_1, label_scriptM_2, label_scriptM_3))\n",
    "print(w2v2_2M.shape,label_2M.shape)"
   ]
  },
  {
   "cell_type": "code",
   "execution_count": 7,
   "id": "d7d062e6-c335-4347-b8a5-a96bc2079623",
   "metadata": {},
   "outputs": [],
   "source": [
    "import pickle\n",
    "with open('data_w2v2_2M.pkl', 'wb') as f:\n",
    "    pickle.dump(w2v2_2M, f)\n",
    "\n",
    "with open('data_label_2M.pkl', 'wb') as f:\n",
    "    pickle.dump(label_2M, f)"
   ]
  },
  {
   "cell_type": "code",
   "execution_count": 8,
   "id": "d5e5e106-2d96-4e71-a394-c5d8c3c89465",
   "metadata": {},
   "outputs": [
    {
     "name": "stdout",
     "output_type": "stream",
     "text": [
      "(1023, 256, 768) (1023,)\n"
     ]
    }
   ],
   "source": [
    "data_Session2_w2v2 = np.concatenate((w2v2_2F, w2v2_2M),axis=0)\n",
    "data_Session2_label = np.concatenate((label_2F, label_2M))\n",
    "print(data_Session2_w2v2.shape, data_Session2_label.shape)\n",
    "import pickle\n",
    "with open('data_Session2_w2v2.pkl', 'wb') as f:\n",
    "    pickle.dump(data_Session2_w2v2, f)\n",
    "\n",
    "with open('data_Session2_label.pkl', 'wb') as f:\n",
    "    pickle.dump(data_Session2_label, f)"
   ]
  },
  {
   "cell_type": "code",
   "execution_count": 2,
   "id": "768c713c-8723-497c-b9da-63db69ee74b8",
   "metadata": {},
   "outputs": [
    {
     "name": "stdout",
     "output_type": "stream",
     "text": [
      "w2v2_improF_1 (81, 256, 768)\n",
      "label_improF_1 (81,)\n",
      "w2v2_improF_2 (93, 256, 768)\n",
      "label_improF_2 (93,)\n",
      "w2v2_improF_3 (88, 256, 768)\n",
      "label_improF_3 (88,)\n",
      "w2v2_scriptF_1 (136, 256, 768)\n",
      "label_scriptF_1 (136,)\n",
      "w2v2_scriptF_2 (73, 256, 768)\n",
      "label_scriptF_2 (73,)\n",
      "w2v2_scriptF_3 (65, 256, 768)\n",
      "label_scriptF_3 (65,)\n"
     ]
    }
   ],
   "source": [
    "#读取Session3F数据集\n",
    "w2v2_improF_1 = jnp.array(numpy.load('/home/ni/step1-提取数据特征/按条提取语音_Session4_pt_特征/data_Session3/data_Session3F_w2v2_impro_1.npy'))\n",
    "print('w2v2_improF_1',w2v2_improF_1.shape)\n",
    "label_improF_1 = jnp.array(numpy.load('/home/ni/step1-提取数据特征/按条提取语音_Session4_pt_特征/data_Session3/data_Session3F_label_impro_1.npy'))\n",
    "print('label_improF_1',label_improF_1.shape)\n",
    "\n",
    "w2v2_improF_2 = jnp.array(numpy.load('/home/ni/step1-提取数据特征/按条提取语音_Session4_pt_特征/data_Session3/data_Session3F_w2v2_impro_2.npy'))\n",
    "print('w2v2_improF_2',w2v2_improF_2.shape)\n",
    "label_improF_2 = jnp.array(numpy.load('/home/ni/step1-提取数据特征/按条提取语音_Session4_pt_特征/data_Session3/data_Session3F_label_impro_2.npy'))\n",
    "print('label_improF_2',label_improF_2.shape)\n",
    "\n",
    "w2v2_improF_3 = jnp.array(numpy.load('/home/ni/step1-提取数据特征/按条提取语音_Session4_pt_特征/data_Session3/data_Session3F_w2v2_impro_3.npy'))\n",
    "print('w2v2_improF_3',w2v2_improF_3.shape)\n",
    "label_improF_3 = jnp.array(numpy.load('/home/ni/step1-提取数据特征/按条提取语音_Session4_pt_特征/data_Session3/data_Session3F_label_impro_3.npy'))\n",
    "print('label_improF_3',label_improF_3.shape)\n",
    "\n",
    "w2v2_scriptF_1 = jnp.array(numpy.load('/home/ni/step1-提取数据特征/按条提取语音_Session4_pt_特征/data_Session3/data_Session3F_w2v2_script_1.npy'))\n",
    "print('w2v2_scriptF_1',w2v2_scriptF_1.shape)\n",
    "label_scriptF_1 = jnp.array(numpy.load('/home/ni/step1-提取数据特征/按条提取语音_Session4_pt_特征/data_Session3/data_Session3F_label_script_1.npy'))\n",
    "print('label_scriptF_1',label_scriptF_1.shape)\n",
    "\n",
    "w2v2_scriptF_2 = jnp.array(numpy.load('/home/ni/step1-提取数据特征/按条提取语音_Session4_pt_特征/data_Session3/data_Session3F_w2v2_script_2.npy'))\n",
    "print('w2v2_scriptF_2',w2v2_scriptF_2.shape)\n",
    "label_scriptF_2 = jnp.array(numpy.load('/home/ni/step1-提取数据特征/按条提取语音_Session4_pt_特征/data_Session3/data_Session3F_label_script_2.npy'))\n",
    "print('label_scriptF_2',label_scriptF_2.shape)\n",
    "\n",
    "w2v2_scriptF_3 = jnp.array(numpy.load('/home/ni/step1-提取数据特征/按条提取语音_Session4_pt_特征/data_Session3/data_Session3F_w2v2_script_3.npy'))\n",
    "print('w2v2_scriptF_3',w2v2_scriptF_3.shape)\n",
    "label_scriptF_3 = jnp.array(numpy.load('/home/ni/step1-提取数据特征/按条提取语音_Session4_pt_特征/data_Session3/data_Session3F_label_script_3.npy'))\n",
    "print('label_scriptF_3',label_scriptF_3.shape)"
   ]
  },
  {
   "cell_type": "code",
   "execution_count": 3,
   "id": "b7d7141b-d867-44f3-96ae-2585ef413e7c",
   "metadata": {},
   "outputs": [
    {
     "name": "stdout",
     "output_type": "stream",
     "text": [
      "(536, 256, 768) (536,)\n"
     ]
    }
   ],
   "source": [
    "w2v2_3F = np.concatenate((w2v2_improF_1, w2v2_improF_2, w2v2_improF_3, w2v2_scriptF_1, w2v2_scriptF_2, w2v2_scriptF_3),axis=0)\n",
    "label_3F = np.concatenate((label_improF_1, label_improF_2, label_improF_3, label_scriptF_1, label_scriptF_2, label_scriptF_3))\n",
    "print(w2v2_3F.shape,label_3F.shape)\n",
    "import pickle\n",
    "with open('data_w2v2_3F.pkl', 'wb') as f:\n",
    "    pickle.dump(w2v2_3F, f)\n",
    "\n",
    "with open('data_label_3F.pkl', 'wb') as f:\n",
    "    pickle.dump(label_3F, f)"
   ]
  },
  {
   "cell_type": "code",
   "execution_count": 4,
   "id": "e40fce95-1098-4a8e-8b02-59a18e89172f",
   "metadata": {},
   "outputs": [
    {
     "name": "stdout",
     "output_type": "stream",
     "text": [
      "w2v2_improM_1 (100, 256, 768)\n",
      "label_improM_1 (100,)\n",
      "w2v2_improM_2 (114, 256, 768)\n",
      "label_improM_2 (114,)\n",
      "w2v2_improM_3 (151, 256, 768)\n",
      "label_improM_3 (151,)\n",
      "w2v2_scriptM_1 (110, 256, 768)\n",
      "label_scriptM_1 (110,)\n",
      "w2v2_scriptM_2 (74, 256, 768)\n",
      "label_scriptM_2 (74,)\n",
      "w2v2_scriptM_3 (66, 256, 768)\n",
      "label_scriptM_3 (66,)\n"
     ]
    }
   ],
   "source": [
    "#读取Session3M数据集\n",
    "w2v2_improM_1 = jnp.array(numpy.load('/home/ni/step1-提取数据特征/按条提取语音_Session4_pt_特征/data_Session3/data_Session3M_w2v2_impro_1.npy'))\n",
    "print('w2v2_improM_1',w2v2_improM_1.shape)\n",
    "label_improM_1 = jnp.array(numpy.load('/home/ni/step1-提取数据特征/按条提取语音_Session4_pt_特征/data_Session3/data_Session3M_label_impro_1.npy'))\n",
    "print('label_improM_1',label_improM_1.shape)\n",
    "\n",
    "w2v2_improM_2 = jnp.array(numpy.load('/home/ni/step1-提取数据特征/按条提取语音_Session4_pt_特征/data_Session3/data_Session3M_w2v2_impro_2.npy'))\n",
    "print('w2v2_improM_2',w2v2_improM_2.shape)\n",
    "label_improM_2 = jnp.array(numpy.load('/home/ni/step1-提取数据特征/按条提取语音_Session4_pt_特征/data_Session3/data_Session3M_label_impro_2.npy'))\n",
    "print('label_improM_2',label_improM_2.shape)\n",
    "\n",
    "w2v2_improM_3 = jnp.array(numpy.load('/home/ni/step1-提取数据特征/按条提取语音_Session4_pt_特征/data_Session3/data_Session3M_w2v2_impro_3.npy'))\n",
    "print('w2v2_improM_3',w2v2_improM_3.shape)\n",
    "label_improM_3 = jnp.array(numpy.load('/home/ni/step1-提取数据特征/按条提取语音_Session4_pt_特征/data_Session3/data_Session3M_label_impro_3.npy'))\n",
    "print('label_improM_3',label_improM_3.shape)\n",
    "\n",
    "w2v2_scriptM_1 = jnp.array(numpy.load('/home/ni/step1-提取数据特征/按条提取语音_Session4_pt_特征/data_Session3/data_Session3M_w2v2_script_1.npy'))\n",
    "print('w2v2_scriptM_1',w2v2_scriptM_1.shape)\n",
    "label_scriptM_1 = jnp.array(numpy.load('/home/ni/step1-提取数据特征/按条提取语音_Session4_pt_特征/data_Session3/data_Session3M_label_script_1.npy'))\n",
    "print('label_scriptM_1',label_scriptM_1.shape)\n",
    "\n",
    "w2v2_scriptM_2 = jnp.array(numpy.load('/home/ni/step1-提取数据特征/按条提取语音_Session4_pt_特征/data_Session3/data_Session3M_w2v2_script_2.npy'))\n",
    "print('w2v2_scriptM_2',w2v2_scriptM_2.shape)\n",
    "label_scriptM_2 = jnp.array(numpy.load('/home/ni/step1-提取数据特征/按条提取语音_Session4_pt_特征/data_Session3/data_Session3M_label_script_2.npy'))\n",
    "print('label_scriptM_2',label_scriptM_2.shape)\n",
    "\n",
    "w2v2_scriptM_3 = jnp.array(numpy.load('/home/ni/step1-提取数据特征/按条提取语音_Session4_pt_特征/data_Session3/data_Session3M_w2v2_script_3.npy'))\n",
    "print('w2v2_scriptM_3',w2v2_scriptM_3.shape)\n",
    "label_scriptM_3 = jnp.array(numpy.load('/home/ni/step1-提取数据特征/按条提取语音_Session4_pt_特征/data_Session3/data_Session3M_label_script_3.npy'))\n",
    "print('label_scriptM_3',label_scriptM_3.shape)"
   ]
  },
  {
   "cell_type": "code",
   "execution_count": 5,
   "id": "a74c4352-5983-4b45-ab4d-753db10f178d",
   "metadata": {},
   "outputs": [
    {
     "name": "stdout",
     "output_type": "stream",
     "text": [
      "(615, 256, 768) (615,)\n"
     ]
    }
   ],
   "source": [
    "w2v2_3M = np.concatenate((w2v2_improM_1, w2v2_improM_2, w2v2_improM_3, w2v2_scriptM_1, w2v2_scriptM_2, w2v2_scriptM_3),axis=0)\n",
    "label_3M = np.concatenate((label_improM_1, label_improM_2, label_improM_3, label_scriptM_1, label_scriptM_2, label_scriptM_3))\n",
    "print(w2v2_3M.shape,label_3M.shape)\n",
    "import pickle\n",
    "with open('data_w2v2_3M.pkl', 'wb') as f:\n",
    "    pickle.dump(w2v2_3M, f)\n",
    "\n",
    "with open('data_label_3M.pkl', 'wb') as f:\n",
    "    pickle.dump(label_3M, f)"
   ]
  },
  {
   "cell_type": "code",
   "execution_count": 6,
   "id": "2178c775-20af-4dd5-838c-fe5dce5f1a33",
   "metadata": {},
   "outputs": [
    {
     "name": "stdout",
     "output_type": "stream",
     "text": [
      "(1151, 256, 768) (1151,)\n"
     ]
    }
   ],
   "source": [
    "data_Session3_w2v2 = np.concatenate((w2v2_3F, w2v2_3M),axis=0)\n",
    "data_Session3_label = np.concatenate((label_3F, label_3M))\n",
    "print(data_Session3_w2v2.shape, data_Session3_label.shape)\n",
    "import pickle\n",
    "with open('data_Session3_w2v2.pkl', 'wb') as f:\n",
    "    pickle.dump(data_Session3_w2v2, f)\n",
    "\n",
    "with open('data_Session3_label.pkl', 'wb') as f:\n",
    "    pickle.dump(data_Session3_label, f)"
   ]
  },
  {
   "cell_type": "code",
   "execution_count": 2,
   "id": "3805a729-4e8d-4967-b57d-f5ab4d88341f",
   "metadata": {},
   "outputs": [
    {
     "name": "stdout",
     "output_type": "stream",
     "text": [
      "w2v2_improF_1 (102, 256, 768)\n",
      "label_improF_1 (102,)\n",
      "w2v2_improF_2 (80, 256, 768)\n",
      "label_improF_2 (80,)\n",
      "w2v2_improF_3 (131, 256, 768)\n",
      "label_improF_3 (131,)\n",
      "w2v2_scriptF_1 (95, 256, 768)\n",
      "label_scriptF_1 (95,)\n",
      "w2v2_scriptF_2 (67, 256, 768)\n",
      "label_scriptF_2 (67,)\n",
      "w2v2_scriptF_3 (78, 256, 768)\n",
      "label_scriptF_3 (78,)\n"
     ]
    }
   ],
   "source": [
    "#读取Session4F数据集\n",
    "w2v2_improF_1 = jnp.array(numpy.load('/home/ni/step1-提取数据特征/按条提取语音_Session4_pt_特征/data_Session4/data_Session4F_w2v2_impro_1.npy'))\n",
    "print('w2v2_improF_1',w2v2_improF_1.shape)\n",
    "label_improF_1 = jnp.array(numpy.load('/home/ni/step1-提取数据特征/按条提取语音_Session4_pt_特征/data_Session4/data_Session4F_label_impro_1.npy'))\n",
    "print('label_improF_1',label_improF_1.shape)\n",
    "\n",
    "w2v2_improF_2 = jnp.array(numpy.load('/home/ni/step1-提取数据特征/按条提取语音_Session4_pt_特征/data_Session4/data_Session4F_w2v2_impro_2.npy'))\n",
    "print('w2v2_improF_2',w2v2_improF_2.shape)\n",
    "label_improF_2 = jnp.array(numpy.load('/home/ni/step1-提取数据特征/按条提取语音_Session4_pt_特征/data_Session4/data_Session4F_label_impro_2.npy'))\n",
    "print('label_improF_2',label_improF_2.shape)\n",
    "\n",
    "w2v2_improF_3 = jnp.array(numpy.load('/home/ni/step1-提取数据特征/按条提取语音_Session4_pt_特征/data_Session4/data_Session4F_w2v2_impro_3.npy'))\n",
    "print('w2v2_improF_3',w2v2_improF_3.shape)\n",
    "label_improF_3 = jnp.array(numpy.load('/home/ni/step1-提取数据特征/按条提取语音_Session4_pt_特征/data_Session4/data_Session4F_label_impro_3.npy'))\n",
    "print('label_improF_3',label_improF_3.shape)\n",
    "\n",
    "w2v2_scriptF_1 = jnp.array(numpy.load('/home/ni/step1-提取数据特征/按条提取语音_Session4_pt_特征/data_Session4/data_Session4F_w2v2_script_1.npy'))\n",
    "print('w2v2_scriptF_1',w2v2_scriptF_1.shape)\n",
    "label_scriptF_1 = jnp.array(numpy.load('/home/ni/step1-提取数据特征/按条提取语音_Session4_pt_特征/data_Session4/data_Session4F_label_script_1.npy'))\n",
    "print('label_scriptF_1',label_scriptF_1.shape)\n",
    "\n",
    "w2v2_scriptF_2 = jnp.array(numpy.load('/home/ni/step1-提取数据特征/按条提取语音_Session4_pt_特征/data_Session4/data_Session4F_w2v2_script_2.npy'))\n",
    "print('w2v2_scriptF_2',w2v2_scriptF_2.shape)\n",
    "label_scriptF_2 = jnp.array(numpy.load('/home/ni/step1-提取数据特征/按条提取语音_Session4_pt_特征/data_Session4/data_Session4F_label_script_2.npy'))\n",
    "print('label_scriptF_2',label_scriptF_2.shape)\n",
    "\n",
    "w2v2_scriptF_3 = jnp.array(numpy.load('/home/ni/step1-提取数据特征/按条提取语音_Session4_pt_特征/data_Session4/data_Session4F_w2v2_script_3.npy'))\n",
    "print('w2v2_scriptF_3',w2v2_scriptF_3.shape)\n",
    "label_scriptF_3 = jnp.array(numpy.load('/home/ni/step1-提取数据特征/按条提取语音_Session4_pt_特征/data_Session4/data_Session4F_label_script_3.npy'))\n",
    "print('label_scriptF_3',label_scriptF_3.shape)"
   ]
  },
  {
   "cell_type": "code",
   "execution_count": 3,
   "id": "4d395d32-7b71-4e70-b078-f7faed9172db",
   "metadata": {},
   "outputs": [
    {
     "name": "stdout",
     "output_type": "stream",
     "text": [
      "(553, 256, 768) (553,)\n"
     ]
    }
   ],
   "source": [
    "w2v2_4F = np.concatenate((w2v2_improF_1, w2v2_improF_2, w2v2_improF_3, w2v2_scriptF_1, w2v2_scriptF_2, w2v2_scriptF_3),axis=0)\n",
    "label_4F = np.concatenate((label_improF_1, label_improF_2, label_improF_3, label_scriptF_1, label_scriptF_2, label_scriptF_3))\n",
    "print(w2v2_4F.shape,label_4F.shape)\n",
    "import pickle\n",
    "with open('data_w2v2_4F.pkl', 'wb') as f:\n",
    "    pickle.dump(w2v2_4F, f)\n",
    "\n",
    "with open('data_label_4F.pkl', 'wb') as f:\n",
    "    pickle.dump(label_4F, f)"
   ]
  },
  {
   "cell_type": "code",
   "execution_count": 4,
   "id": "86cf426a-cdbf-4aef-bef3-85d8216eba3b",
   "metadata": {},
   "outputs": [
    {
     "name": "stdout",
     "output_type": "stream",
     "text": [
      "w2v2_improM_1 (54, 256, 768)\n",
      "label_improM_1 (54,)\n",
      "w2v2_improM_2 (90, 256, 768)\n",
      "label_improM_2 (90,)\n",
      "w2v2_improM_3 (77, 256, 768)\n",
      "label_improM_3 (77,)\n",
      "w2v2_scriptM_1 (82, 256, 768)\n",
      "label_scriptM_1 (82,)\n",
      "w2v2_scriptM_2 (64, 256, 768)\n",
      "label_scriptM_2 (64,)\n",
      "w2v2_scriptM_3 (111, 256, 768)\n",
      "label_scriptM_3 (111,)\n"
     ]
    }
   ],
   "source": [
    "#读取Session4M数据集\n",
    "w2v2_improM_1 = jnp.array(numpy.load('/home/ni/step1-提取数据特征/按条提取语音_Session4_pt_特征/data_Session4/data_Session4M_w2v2_impro_1.npy'))\n",
    "print('w2v2_improM_1',w2v2_improM_1.shape)\n",
    "label_improM_1 = jnp.array(numpy.load('/home/ni/step1-提取数据特征/按条提取语音_Session4_pt_特征/data_Session4/data_Session4M_label_impro_1.npy'))\n",
    "print('label_improM_1',label_improM_1.shape)\n",
    "\n",
    "w2v2_improM_2 = jnp.array(numpy.load('/home/ni/step1-提取数据特征/按条提取语音_Session4_pt_特征/data_Session4/data_Session4M_w2v2_impro_2.npy'))\n",
    "print('w2v2_improM_2',w2v2_improM_2.shape)\n",
    "label_improM_2 = jnp.array(numpy.load('/home/ni/step1-提取数据特征/按条提取语音_Session4_pt_特征/data_Session4/data_Session4M_label_impro_2.npy'))\n",
    "print('label_improM_2',label_improM_2.shape)\n",
    "\n",
    "w2v2_improM_3 = jnp.array(numpy.load('/home/ni/step1-提取数据特征/按条提取语音_Session4_pt_特征/data_Session4/data_Session4M_w2v2_impro_3.npy'))\n",
    "print('w2v2_improM_3',w2v2_improM_3.shape)\n",
    "label_improM_3 = jnp.array(numpy.load('/home/ni/step1-提取数据特征/按条提取语音_Session4_pt_特征/data_Session4/data_Session4M_label_impro_3.npy'))\n",
    "print('label_improM_3',label_improM_3.shape)\n",
    "\n",
    "w2v2_scriptM_1 = jnp.array(numpy.load('/home/ni/step1-提取数据特征/按条提取语音_Session4_pt_特征/data_Session4/data_Session4M_w2v2_script_1.npy'))\n",
    "print('w2v2_scriptM_1',w2v2_scriptM_1.shape)\n",
    "label_scriptM_1 = jnp.array(numpy.load('/home/ni/step1-提取数据特征/按条提取语音_Session4_pt_特征/data_Session4/data_Session4M_label_script_1.npy'))\n",
    "print('label_scriptM_1',label_scriptM_1.shape)\n",
    "\n",
    "w2v2_scriptM_2 = jnp.array(numpy.load('/home/ni/step1-提取数据特征/按条提取语音_Session4_pt_特征/data_Session4/data_Session4M_w2v2_script_2.npy'))\n",
    "print('w2v2_scriptM_2',w2v2_scriptM_2.shape)\n",
    "label_scriptM_2 = jnp.array(numpy.load('/home/ni/step1-提取数据特征/按条提取语音_Session4_pt_特征/data_Session4/data_Session4M_label_script_2.npy'))\n",
    "print('label_scriptM_2',label_scriptM_2.shape)\n",
    "\n",
    "w2v2_scriptM_3 = jnp.array(numpy.load('/home/ni/step1-提取数据特征/按条提取语音_Session4_pt_特征/data_Session4/data_Session4M_w2v2_script_3.npy'))\n",
    "print('w2v2_scriptM_3',w2v2_scriptM_3.shape)\n",
    "label_scriptM_3 = jnp.array(numpy.load('/home/ni/step1-提取数据特征/按条提取语音_Session4_pt_特征/data_Session4/data_Session4M_label_script_3.npy'))\n",
    "print('label_scriptM_3',label_scriptM_3.shape)"
   ]
  },
  {
   "cell_type": "code",
   "execution_count": 5,
   "id": "7746d5ba-d6c8-42d2-85b5-a03c802ed23d",
   "metadata": {},
   "outputs": [
    {
     "name": "stdout",
     "output_type": "stream",
     "text": [
      "(478, 256, 768) (478,)\n"
     ]
    }
   ],
   "source": [
    "w2v2_4M = np.concatenate((w2v2_improM_1, w2v2_improM_2, w2v2_improM_3, w2v2_scriptM_1, w2v2_scriptM_2, w2v2_scriptM_3),axis=0)\n",
    "label_4M = np.concatenate((label_improM_1, label_improM_2, label_improM_3, label_scriptM_1, label_scriptM_2, label_scriptM_3))\n",
    "print(w2v2_4M.shape,label_4M.shape)\n",
    "import pickle\n",
    "with open('data_w2v2_4M.pkl', 'wb') as f:\n",
    "    pickle.dump(w2v2_4M, f)\n",
    "\n",
    "with open('data_label_4M.pkl', 'wb') as f:\n",
    "    pickle.dump(label_4M, f)"
   ]
  },
  {
   "cell_type": "code",
   "execution_count": 6,
   "id": "56e930f1-5d84-4700-9a83-fd63770e66b4",
   "metadata": {},
   "outputs": [
    {
     "name": "stdout",
     "output_type": "stream",
     "text": [
      "(1031, 256, 768) (1031,)\n"
     ]
    }
   ],
   "source": [
    "data_Session4_w2v2 = np.concatenate((w2v2_4F, w2v2_4M),axis=0)\n",
    "data_Session4_label = np.concatenate((label_4F, label_4M))\n",
    "print(data_Session4_w2v2.shape, data_Session4_label.shape)\n",
    "import pickle\n",
    "with open('data_Session4_w2v2.pkl', 'wb') as f:\n",
    "    pickle.dump(data_Session4_w2v2, f)\n",
    "\n",
    "with open('data_Session4_label.pkl', 'wb') as f:\n",
    "    pickle.dump(data_Session4_label, f)"
   ]
  },
  {
   "cell_type": "code",
   "execution_count": 2,
   "id": "1a03c6ed-21b0-4d17-b712-429bed7e61d5",
   "metadata": {},
   "outputs": [
    {
     "name": "stdout",
     "output_type": "stream",
     "text": [
      "w2v2_improF_1 (46, 256, 768)\n",
      "label_improF_1 (46,)\n",
      "w2v2_improF_2 (136, 256, 768)\n",
      "label_improF_2 (136,)\n",
      "w2v2_improF_3 (108, 256, 768)\n",
      "label_improF_3 (108,)\n",
      "w2v2_improF_4 (113, 256, 768)\n",
      "label_improF_4 (113,)\n",
      "w2v2_scriptF_1 (88, 256, 768)\n",
      "label_scriptF_1 (88,)\n",
      "w2v2_scriptF_2 (65, 256, 768)\n",
      "label_scriptF_2 (65,)\n",
      "w2v2_scriptF_3 (88, 256, 768)\n",
      "label_scriptF_3 (88,)\n"
     ]
    }
   ],
   "source": [
    "#读取Session5F数据集\n",
    "w2v2_improF_1 = jnp.array(numpy.load('/home/ni/step1-提取数据特征/按条提取语音_Session3_pt_特征/data_Session5/data_Session5F_w2v2_impro_1.npy'))\n",
    "print('w2v2_improF_1',w2v2_improF_1.shape)\n",
    "label_improF_1 = jnp.array(numpy.load('/home/ni/step1-提取数据特征/按条提取语音_Session3_pt_特征/data_Session5/data_Session5F_label_impro_1.npy'))\n",
    "print('label_improF_1',label_improF_1.shape)\n",
    "\n",
    "w2v2_improF_2 = jnp.array(numpy.load('/home/ni/step1-提取数据特征/按条提取语音_Session3_pt_特征/data_Session5/data_Session5F_w2v2_impro_2.npy'))\n",
    "print('w2v2_improF_2',w2v2_improF_2.shape)\n",
    "label_improF_2 = jnp.array(numpy.load('/home/ni/step1-提取数据特征/按条提取语音_Session3_pt_特征/data_Session5/data_Session5F_label_impro_2.npy'))\n",
    "print('label_improF_2',label_improF_2.shape)\n",
    "\n",
    "w2v2_improF_3 = jnp.array(numpy.load('/home/ni/step1-提取数据特征/按条提取语音_Session3_pt_特征/data_Session5/data_Session5F_w2v2_impro_3.npy'))\n",
    "print('w2v2_improF_3',w2v2_improF_3.shape)\n",
    "label_improF_3 = jnp.array(numpy.load('/home/ni/step1-提取数据特征/按条提取语音_Session3_pt_特征/data_Session5/data_Session5F_label_impro_3.npy'))\n",
    "print('label_improF_3',label_improF_3.shape)\n",
    "\n",
    "w2v2_improF_4 = jnp.array(numpy.load('/home/ni/step1-提取数据特征/按条提取语音_Session3_pt_特征/data_Session5/data_Session5F_w2v2_impro_4.npy'))\n",
    "print('w2v2_improF_4',w2v2_improF_4.shape)\n",
    "label_improF_4 = jnp.array(numpy.load('/home/ni/step1-提取数据特征/按条提取语音_Session3_pt_特征/data_Session5/data_Session5F_label_impro_4.npy'))\n",
    "print('label_improF_4',label_improF_4.shape)\n",
    "\n",
    "w2v2_scriptF_1 = jnp.array(numpy.load('/home/ni/step1-提取数据特征/按条提取语音_Session3_pt_特征/data_Session5/data_Session5F_w2v2_script_1.npy'))\n",
    "print('w2v2_scriptF_1',w2v2_scriptF_1.shape)\n",
    "label_scriptF_1 = jnp.array(numpy.load('/home/ni/step1-提取数据特征/按条提取语音_Session3_pt_特征/data_Session5/data_Session5F_label_script_1.npy'))\n",
    "print('label_scriptF_1',label_scriptF_1.shape)\n",
    "\n",
    "w2v2_scriptF_2 = jnp.array(numpy.load('/home/ni/step1-提取数据特征/按条提取语音_Session3_pt_特征/data_Session5/data_Session5F_w2v2_script_2.npy'))\n",
    "print('w2v2_scriptF_2',w2v2_scriptF_2.shape)\n",
    "label_scriptF_2 = jnp.array(numpy.load('/home/ni/step1-提取数据特征/按条提取语音_Session3_pt_特征/data_Session5/data_Session5F_label_script_2.npy'))\n",
    "print('label_scriptF_2',label_scriptF_2.shape)\n",
    "\n",
    "w2v2_scriptF_3 = jnp.array(numpy.load('/home/ni/step1-提取数据特征/按条提取语音_Session3_pt_特征/data_Session5/data_Session5F_w2v2_script_3.npy'))\n",
    "print('w2v2_scriptF_3',w2v2_scriptF_3.shape)\n",
    "label_scriptF_3 = jnp.array(numpy.load('/home/ni/step1-提取数据特征/按条提取语音_Session3_pt_特征/data_Session5/data_Session5F_label_script_3.npy'))\n",
    "print('label_scriptF_3',label_scriptF_3.shape)"
   ]
  },
  {
   "cell_type": "code",
   "execution_count": 3,
   "id": "6f56cda6-e6e4-4d79-8d49-e38704fa50b0",
   "metadata": {},
   "outputs": [
    {
     "name": "stdout",
     "output_type": "stream",
     "text": [
      "(644, 256, 768) (644,)\n"
     ]
    }
   ],
   "source": [
    "w2v2_5F = np.concatenate((w2v2_improF_1, w2v2_improF_2, w2v2_improF_3, w2v2_improF_4, w2v2_scriptF_1, w2v2_scriptF_2, w2v2_scriptF_3),axis=0)\n",
    "label_5F = np.concatenate((label_improF_1, label_improF_2, label_improF_3, label_improF_4,label_scriptF_1, label_scriptF_2, label_scriptF_3))\n",
    "print(w2v2_5F.shape,label_5F.shape)\n",
    "import pickle\n",
    "with open('data_w2v2_5F.pkl', 'wb') as f:\n",
    "    pickle.dump(w2v2_5F, f)\n",
    "\n",
    "with open('data_label_5F.pkl', 'wb') as f:\n",
    "    pickle.dump(label_5F, f)"
   ]
  },
  {
   "cell_type": "code",
   "execution_count": 4,
   "id": "3ba6584c-2e32-4798-b935-8c457d67630b",
   "metadata": {},
   "outputs": [
    {
     "name": "stdout",
     "output_type": "stream",
     "text": [
      "w2v2_improM_1 (94, 256, 768)\n",
      "label_improM_1 (94,)\n",
      "w2v2_improM_2 (103, 256, 768)\n",
      "label_improM_2 (103,)\n",
      "w2v2_improM_3 (131, 256, 768)\n",
      "label_improM_3 (131,)\n",
      "w2v2_scriptM_1 (107, 256, 768)\n",
      "label_scriptM_1 (107,)\n",
      "w2v2_scriptM_2 (66, 256, 768)\n",
      "label_scriptM_2 (66,)\n",
      "w2v2_scriptM_3 (96, 256, 768)\n",
      "label_scriptM_3 (96,)\n"
     ]
    }
   ],
   "source": [
    "#读取Session5M数据集\n",
    "w2v2_improM_1 = jnp.array(numpy.load('/home/ni/step1-提取数据特征/按条提取语音_Session3_pt_特征/data_Session5/data_Session5M_w2v2_impro_1.npy'))\n",
    "print('w2v2_improM_1',w2v2_improM_1.shape)\n",
    "label_improM_1 = jnp.array(numpy.load('/home/ni/step1-提取数据特征/按条提取语音_Session3_pt_特征/data_Session5/data_Session5M_label_impro_1.npy'))\n",
    "print('label_improM_1',label_improM_1.shape)\n",
    "\n",
    "w2v2_improM_2 = jnp.array(numpy.load('/home/ni/step1-提取数据特征/按条提取语音_Session3_pt_特征/data_Session5/data_Session5M_w2v2_impro_2.npy'))\n",
    "print('w2v2_improM_2',w2v2_improM_2.shape)\n",
    "label_improM_2 = jnp.array(numpy.load('/home/ni/step1-提取数据特征/按条提取语音_Session3_pt_特征/data_Session5/data_Session5M_label_impro_2.npy'))\n",
    "print('label_improM_2',label_improM_2.shape)\n",
    "\n",
    "w2v2_improM_3 = jnp.array(numpy.load('/home/ni/step1-提取数据特征/按条提取语音_Session3_pt_特征/data_Session5/data_Session5M_w2v2_impro_3.npy'))\n",
    "print('w2v2_improM_3',w2v2_improM_3.shape)\n",
    "label_improM_3 = jnp.array(numpy.load('/home/ni/step1-提取数据特征/按条提取语音_Session3_pt_特征/data_Session5/data_Session5M_label_impro_3.npy'))\n",
    "print('label_improM_3',label_improM_3.shape)\n",
    "\n",
    "w2v2_scriptM_1 = jnp.array(numpy.load('/home/ni/step1-提取数据特征/按条提取语音_Session3_pt_特征/data_Session5/data_Session5M_w2v2_script_1.npy'))\n",
    "print('w2v2_scriptM_1',w2v2_scriptM_1.shape)\n",
    "label_scriptM_1 = jnp.array(numpy.load('/home/ni/step1-提取数据特征/按条提取语音_Session3_pt_特征/data_Session5/data_Session5M_label_script_1.npy'))\n",
    "print('label_scriptM_1',label_scriptM_1.shape)\n",
    "\n",
    "w2v2_scriptM_2 = jnp.array(numpy.load('/home/ni/step1-提取数据特征/按条提取语音_Session3_pt_特征/data_Session5/data_Session5M_w2v2_script_2.npy'))\n",
    "print('w2v2_scriptM_2',w2v2_scriptM_2.shape)\n",
    "label_scriptM_2 = jnp.array(numpy.load('/home/ni/step1-提取数据特征/按条提取语音_Session3_pt_特征/data_Session5/data_Session5M_label_script_2.npy'))\n",
    "print('label_scriptM_2',label_scriptM_2.shape)\n",
    "\n",
    "w2v2_scriptM_3 = jnp.array(numpy.load('/home/ni/step1-提取数据特征/按条提取语音_Session3_pt_特征/data_Session5/data_Session5M_w2v2_script_3.npy'))\n",
    "print('w2v2_scriptM_3',w2v2_scriptM_3.shape)\n",
    "label_scriptM_3 = jnp.array(numpy.load('/home/ni/step1-提取数据特征/按条提取语音_Session3_pt_特征/data_Session5/data_Session5M_label_script_3.npy'))\n",
    "print('label_scriptM_3',label_scriptM_3.shape)"
   ]
  },
  {
   "cell_type": "code",
   "execution_count": 5,
   "id": "903f4a2e-b69a-4105-b48d-558f6101c0d2",
   "metadata": {},
   "outputs": [
    {
     "name": "stdout",
     "output_type": "stream",
     "text": [
      "(597, 256, 768) (597,)\n"
     ]
    }
   ],
   "source": [
    "w2v2_5M = np.concatenate((w2v2_improM_1, w2v2_improM_2, w2v2_improM_3, w2v2_scriptM_1, w2v2_scriptM_2, w2v2_scriptM_3),axis=0)\n",
    "label_5M = np.concatenate((label_improM_1, label_improM_2, label_improM_3, label_scriptM_1, label_scriptM_2, label_scriptM_3))\n",
    "print(w2v2_5M.shape,label_5M.shape)\n",
    "import pickle\n",
    "with open('data_w2v2_5M.pkl', 'wb') as f:\n",
    "    pickle.dump(w2v2_5M, f)\n",
    "\n",
    "with open('data_label_5M.pkl', 'wb') as f:\n",
    "    pickle.dump(label_5M, f)"
   ]
  },
  {
   "cell_type": "code",
   "execution_count": 6,
   "id": "6ba514fe-8595-4576-9ad6-d225983821a7",
   "metadata": {},
   "outputs": [
    {
     "name": "stdout",
     "output_type": "stream",
     "text": [
      "(1241, 256, 768) (1241,)\n"
     ]
    }
   ],
   "source": [
    "data_Session5_w2v2 = np.concatenate((w2v2_5F, w2v2_5M),axis=0)\n",
    "data_Session5_label = np.concatenate((label_5F, label_5M))\n",
    "print(data_Session5_w2v2.shape, data_Session5_label.shape)\n",
    "import pickle\n",
    "with open('data_Session5_w2v2.pkl', 'wb') as f:\n",
    "    pickle.dump(data_Session5_w2v2, f)\n",
    "\n",
    "with open('data_Session5_label.pkl', 'wb') as f:\n",
    "    pickle.dump(data_Session5_label, f)"
   ]
  },
  {
   "cell_type": "code",
   "execution_count": null,
   "id": "4d10bf61-288c-4dad-bffd-4f2bad8f13a0",
   "metadata": {},
   "outputs": [],
   "source": []
  }
 ],
 "metadata": {
  "kernelspec": {
   "display_name": "Python jaxpy39",
   "language": "python",
   "name": "jaxpy39"
  },
  "language_info": {
   "codemirror_mode": {
    "name": "ipython",
    "version": 3
   },
   "file_extension": ".py",
   "mimetype": "text/x-python",
   "name": "python",
   "nbconvert_exporter": "python",
   "pygments_lexer": "ipython3",
   "version": "3.9.18"
  }
 },
 "nbformat": 4,
 "nbformat_minor": 5
}
